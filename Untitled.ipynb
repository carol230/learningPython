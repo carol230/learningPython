{
 "cells": [
  {
   "cell_type": "markdown",
   "id": "bc61b716-713b-4aac-83bb-47499fa3fd09",
   "metadata": {},
   "source": [
    "### Redondear"
   ]
  },
  {
   "cell_type": "code",
   "execution_count": 1,
   "id": "539d491a-505f-4a1c-8fdf-8204a40bd824",
   "metadata": {},
   "outputs": [
    {
     "data": {
      "text/plain": [
       "32"
      ]
     },
     "execution_count": 1,
     "metadata": {},
     "output_type": "execute_result"
    }
   ],
   "source": [
    "round(31.62)"
   ]
  },
  {
   "cell_type": "code",
   "execution_count": 10,
   "id": "16552aaf-2d5c-4d53-8568-2b624e515b25",
   "metadata": {},
   "outputs": [
    {
     "data": {
      "text/plain": [
       "31.69"
      ]
     },
     "execution_count": 10,
     "metadata": {},
     "output_type": "execute_result"
    }
   ],
   "source": [
    "round(31.6892,2) # es para elegir cuantos decimales"
   ]
  },
  {
   "cell_type": "markdown",
   "id": "f6bf33be-b86e-478c-be89-a6114272640c",
   "metadata": {},
   "source": [
    "### Pow"
   ]
  },
  {
   "cell_type": "code",
   "execution_count": 6,
   "id": "9b4ae0cb-320f-47e5-b191-9e5839c33e46",
   "metadata": {},
   "outputs": [
    {
     "data": {
      "text/plain": [
       "25"
      ]
     },
     "execution_count": 6,
     "metadata": {},
     "output_type": "execute_result"
    }
   ],
   "source": [
    "5**2"
   ]
  },
  {
   "cell_type": "markdown",
   "id": "02fd6fec-9180-446b-9909-f948cd9c5ab6",
   "metadata": {},
   "source": [
    "### += -="
   ]
  },
  {
   "cell_type": "code",
   "execution_count": 53,
   "id": "da63f053-37ea-421b-879e-b52f601eabf2",
   "metadata": {},
   "outputs": [
    {
     "name": "stdout",
     "output_type": "stream",
     "text": [
      "-2\n"
     ]
    }
   ],
   "source": [
    "score = 0\n",
    "score -= 2\n",
    "print (score)"
   ]
  },
  {
   "cell_type": "markdown",
   "id": "a1356f12-7313-4371-963f-8a9e571bccbd",
   "metadata": {},
   "source": [
    "### mezclar strings con mas"
   ]
  },
  {
   "cell_type": "code",
   "execution_count": 62,
   "id": "78884f13-9f74-40ba-9b79-468569dae3ef",
   "metadata": {},
   "outputs": [
    {
     "name": "stdout",
     "output_type": "stream",
     "text": [
      "Your score is =0 and your heigth is 1.8 wich is True\n"
     ]
    }
   ],
   "source": [
    "score=0\n",
    "height=1.8\n",
    "is_winning=True\n",
    "\n",
    "print(f\"Your score is ={score} and your heigth is {height} wich is {is_winning}\")"
   ]
  },
  {
   "cell_type": "markdown",
   "id": "8ddfe15a-a0b2-4ee5-b17c-60966fc5a453",
   "metadata": {},
   "source": [
    "# multiples condiciones en un if\n",
    "* A and B : ambas deben ser True para que me de true\n",
    "* A or B : una debe ser True para que me true\n",
    "* not A : debe ser False para que me de true"
   ]
  },
  {
   "cell_type": "markdown",
   "id": "659ec29a-f2a6-4020-b119-a831167471c2",
   "metadata": {},
   "source": [
    "# Link como hacer randoms\n",
    "https://docs.python.org/3/library/random.html\n"
   ]
  },
  {
   "cell_type": "markdown",
   "id": "1ef686c3-5808-408a-abd2-3110aa1ba83a",
   "metadata": {},
   "source": [
    "# Link operaciones listas\n",
    "https://docs.python.org/3/tutorial/datastructures.html"
   ]
  },
  {
   "cell_type": "code",
   "execution_count": 7,
   "id": "11faaf4e-c0f5-4a9f-b6fc-34019d83a1d0",
   "metadata": {},
   "outputs": [
    {
     "name": "stdin",
     "output_type": "stream",
     "text": [
      " a\n",
      " xyz\n"
     ]
    },
    {
     "name": "stdout",
     "output_type": "stream",
     "text": [
      "aaqui\n"
     ]
    }
   ],
   "source": [
    "w = input()\n",
    "w2 = input()\n",
    "print(w+'aqui')"
   ]
  }
 ],
 "metadata": {
  "kernelspec": {
   "display_name": "Python 3 (ipykernel)",
   "language": "python",
   "name": "python3"
  },
  "language_info": {
   "codemirror_mode": {
    "name": "ipython",
    "version": 3
   },
   "file_extension": ".py",
   "mimetype": "text/x-python",
   "name": "python",
   "nbconvert_exporter": "python",
   "pygments_lexer": "ipython3",
   "version": "3.12.4"
  }
 },
 "nbformat": 4,
 "nbformat_minor": 5
}
